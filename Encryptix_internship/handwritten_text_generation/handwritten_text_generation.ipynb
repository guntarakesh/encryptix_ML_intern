{
 "cells": [
  {
   "cell_type": "code",
   "execution_count": 1,
   "id": "aaf756f7-b3ff-4ade-a363-fab4154a431f",
   "metadata": {},
   "outputs": [],
   "source": [
    "import random \n",
    "import numpy as np\n",
    "import tensorflow as tf\n",
    "from tensorflow.keras.models import Sequential\n",
    "from tensorflow.keras.layers import LSTM , Dense , Activation \n",
    "from tensorflow.keras.optimizers import RMSprop"
   ]
  },
  {
   "cell_type": "code",
   "execution_count": 2,
   "id": "b6d656f5-5b89-47e0-90c2-401857e43562",
   "metadata": {},
   "outputs": [
    {
     "name": "stdout",
     "output_type": "stream",
     "text": [
      "completed\n"
     ]
    }
   ],
   "source": [
    "# !pip install tensorflow\n",
    "print(f'completed')"
   ]
  },
  {
   "cell_type": "code",
   "execution_count": 3,
   "id": "45194454-a197-43c0-8191-3d078da3209f",
   "metadata": {},
   "outputs": [],
   "source": [
    "filepath = tf.keras.utils.get_file('input.txt','https://storage.googleapis.com/download.tensorflow.org/data/shakespeare.txt')\n",
    "\n",
    "text = open(filepath,'rb').read().decode(encoding='utf-8').lower()"
   ]
  },
  {
   "cell_type": "code",
   "execution_count": 4,
   "id": "366620cb-7070-4841-8dba-668410adaee5",
   "metadata": {},
   "outputs": [],
   "source": [
    "text = text[300000:800000]\n",
    "\n",
    "characters = sorted(set(text))"
   ]
  },
  {
   "cell_type": "code",
   "execution_count": 5,
   "id": "007b9cfb-04bd-49c9-ab10-e22ddf09395c",
   "metadata": {},
   "outputs": [],
   "source": [
    "char_to_index = dict((c,i) for i,c in enumerate(characters))\n",
    "index_to_char = dict((i,c) for i,c in enumerate(characters))"
   ]
  },
  {
   "cell_type": "code",
   "execution_count": 6,
   "id": "6530d52c-4beb-425c-a042-383e35eb2384",
   "metadata": {},
   "outputs": [],
   "source": [
    "sentences = []\n",
    "next_characters = []"
   ]
  },
  {
   "cell_type": "code",
   "execution_count": 7,
   "id": "169be7bb-5c26-49fd-bc42-1a96758cea17",
   "metadata": {},
   "outputs": [],
   "source": [
    "SEQ_LENGTH = 40 \n",
    "STEP_SIZE = 3 "
   ]
  },
  {
   "cell_type": "code",
   "execution_count": 11,
   "id": "435c2c25-8c8d-4039-b810-3907f3c69d80",
   "metadata": {},
   "outputs": [],
   "source": [
    "for i in range(0,len(text) - SEQ_LENGTH , STEP_SIZE) : \n",
    "    sentences.append(text[i: i+SEQ_LENGTH])\n",
    "    next_characters.append(text[i+SEQ_LENGTH])"
   ]
  },
  {
   "cell_type": "code",
   "execution_count": 12,
   "id": "1b304adc-2230-4c6d-862b-474340a72106",
   "metadata": {},
   "outputs": [],
   "source": [
    "x = np.zeros((len(sentences), SEQ_LENGTH, len(characters)), dtype=bool)\n",
    "y = np.zeros((len(sentences), len(characters)), dtype=bool)"
   ]
  },
  {
   "cell_type": "code",
   "execution_count": 14,
   "id": "d64badb5-2dbb-472c-99cc-408637f4e869",
   "metadata": {},
   "outputs": [],
   "source": [
    "for i, sentence in enumerate(sentences) : \n",
    "    for t,character in enumerate(sentence) : \n",
    "        x[i,t,char_to_index[character]] = 1 \n",
    "    y[i,char_to_index[next_characters[i]]] = 1 "
   ]
  },
  {
   "cell_type": "code",
   "execution_count": 23,
   "id": "03514927-de5f-434b-9a1d-cb6fb73e5823",
   "metadata": {},
   "outputs": [],
   "source": [
    "model = Sequential()\n",
    "model.add(LSTM(128,input_shape=(SEQ_LENGTH, len(characters))))\n",
    "model.add(Dense(len(characters)))\n",
    "model.add(Activation('softmax'))\n",
    "\n",
    "model.compile(loss='categorical_crossentropy',optimizer = RMSprop(lr:=0.01))"
   ]
  },
  {
   "cell_type": "code",
   "execution_count": 24,
   "id": "5982cd96-32bf-4a38-ace8-73cbc099eb1f",
   "metadata": {},
   "outputs": [
    {
     "name": "stdout",
     "output_type": "stream",
     "text": [
      "Epoch 1/4\n",
      "\u001b[1m1302/1302\u001b[0m \u001b[32m━━━━━━━━━━━━━━━━━━━━\u001b[0m\u001b[37m\u001b[0m \u001b[1m118s\u001b[0m 89ms/step - loss: 2.2395\n",
      "Epoch 2/4\n",
      "\u001b[1m1302/1302\u001b[0m \u001b[32m━━━━━━━━━━━━━━━━━━━━\u001b[0m\u001b[37m\u001b[0m \u001b[1m115s\u001b[0m 88ms/step - loss: 1.5790\n",
      "Epoch 3/4\n",
      "\u001b[1m1302/1302\u001b[0m \u001b[32m━━━━━━━━━━━━━━━━━━━━\u001b[0m\u001b[37m\u001b[0m \u001b[1m110s\u001b[0m 84ms/step - loss: 1.4604\n",
      "Epoch 4/4\n",
      "\u001b[1m1302/1302\u001b[0m \u001b[32m━━━━━━━━━━━━━━━━━━━━\u001b[0m\u001b[37m\u001b[0m \u001b[1m108s\u001b[0m 83ms/step - loss: 1.3991\n"
     ]
    },
    {
     "data": {
      "text/plain": [
       "<keras.src.callbacks.history.History at 0x236e596a390>"
      ]
     },
     "execution_count": 24,
     "metadata": {},
     "output_type": "execute_result"
    }
   ],
   "source": [
    "model.fit(x,y,batch_size = 256 , epochs = 4)"
   ]
  },
  {
   "cell_type": "code",
   "execution_count": 25,
   "id": "b29e3f85-e880-4793-9730-cb9855b493a3",
   "metadata": {},
   "outputs": [],
   "source": [
    "def sample(preds,temperature=1.0) : \n",
    "    preds = np.asarray(preds).astype('float64')\n",
    "    preds = np.log(preds) / temperature \n",
    "    exp_preds = np.exp(preds)\n",
    "    preds = exp_preds / np.sum(exp_preds)\n",
    "    probas = np.random.multinomial(1,preds,1)\n",
    "    return np.argmax(probas)"
   ]
  },
  {
   "cell_type": "code",
   "execution_count": 33,
   "id": "30af579c-a22b-48a4-b10b-6e79c824d0cc",
   "metadata": {},
   "outputs": [],
   "source": [
    "def generate_text(length,temperature):\n",
    "    start_index = random.randint(0,len(text) - SEQ_LENGTH - 1 ) \n",
    "    generated = \"\"\n",
    "    sentence = text[start_index : start_index + SEQ_LENGTH]\n",
    "    generated += sentence\n",
    "    for i in range(length):\n",
    "        x = np.zeros((1,SEQ_LENGTH,len(characters)))\n",
    "        for t,character in enumerate(sentence):\n",
    "            x[0,t,char_to_index[character]] = 1 \n",
    "\n",
    "        predictions = model.predict(x,verbose = 0)[0]\n",
    "        next_index = sample(predictions,temperature)\n",
    "        next_character = index_to_char[next_index]\n",
    "\n",
    "        generated += next_character\n",
    "        sentence = sentence[1:] + next_character\n",
    "    return generated"
   ]
  },
  {
   "cell_type": "code",
   "execution_count": 34,
   "id": "fbc51a3f-a318-4ed5-a301-09b9a82f8150",
   "metadata": {},
   "outputs": [
    {
     "name": "stdout",
     "output_type": "stream",
     "text": [
      " dead.\n",
      "\n",
      "lord ross:\n",
      "and living too; for not the heart is the heart,\n",
      "the winders of the first and the true not.\n",
      "\n",
      "lord mistaner:\n",
      "what is the banish'd the blood of the bant.\n",
      "\n",
      "king henry vi\n",
      "\n",
      "clarence:\n",
      "the banks the house of the banks the breake\n",
      "to the true not to the crown and the banish'd to the care\n",
      "thee the creating be the greet of the hear\n"
     ]
    }
   ],
   "source": [
    "print(generate_text(300,0.2))"
   ]
  },
  {
   "cell_type": "code",
   "execution_count": 35,
   "id": "7753ae2d-dd67-4020-b8b8-8eb235f2a1d9",
   "metadata": {},
   "outputs": [
    {
     "name": "stdout",
     "output_type": "stream",
     "text": [
      "usin, throw up your gage; do you begin.\n",
      "\n",
      "romeo:\n",
      "the treeds and the breake to her for the county.\n",
      "\n",
      "polixenes:\n",
      "you could be no long his the county to the rest.\n",
      "\n",
      "duke of york:\n",
      "what she stread the winter to the blood,\n",
      "the way to the rest the heart to the next be again.\n",
      "\n",
      "first lady:\n",
      "'twere father to the bears, and the banks.\n",
      "\n",
      "polixenes:\n",
      "what i\n"
     ]
    }
   ],
   "source": [
    "print(generate_text(300,0.4))"
   ]
  },
  {
   "cell_type": "code",
   "execution_count": 36,
   "id": "f0e222cb-bc01-4257-8ac4-0c47825488d0",
   "metadata": {},
   "outputs": [
    {
     "name": "stdout",
     "output_type": "stream",
     "text": [
      "ter of lord scales\n",
      "unto the brother of your meres, good norfolk,\n",
      "be repont the heart to the part the fight.\n",
      "\n",
      "duchess of york:\n",
      "who hath forereant be over with is all the line.\n",
      "and we may she stope the worst not me breake\n",
      "the day lote in this wife of new with me:\n",
      "and i madam, lordst have i will be dines,\n",
      "which to thy own lieve our dark hate\n"
     ]
    }
   ],
   "source": [
    "print(generate_text(300,0.6))"
   ]
  },
  {
   "cell_type": "code",
   "execution_count": null,
   "id": "def10b45-5eaa-48b6-9e28-d6bbad040b51",
   "metadata": {},
   "outputs": [],
   "source": []
  }
 ],
 "metadata": {
  "kernelspec": {
   "display_name": "Python 3 (ipykernel)",
   "language": "python",
   "name": "python3"
  },
  "language_info": {
   "codemirror_mode": {
    "name": "ipython",
    "version": 3
   },
   "file_extension": ".py",
   "mimetype": "text/x-python",
   "name": "python",
   "nbconvert_exporter": "python",
   "pygments_lexer": "ipython3",
   "version": "3.11.1"
  }
 },
 "nbformat": 4,
 "nbformat_minor": 5
}
