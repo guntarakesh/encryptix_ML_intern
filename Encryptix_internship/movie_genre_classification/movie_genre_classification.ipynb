{
 "cells": [
  {
   "cell_type": "code",
   "execution_count": 1,
   "id": "ea9180bd-d176-4629-b0ec-408edc76212d",
   "metadata": {},
   "outputs": [],
   "source": [
    "import numpy as np\n",
    "import pandas as pd"
   ]
  },
  {
   "cell_type": "code",
   "execution_count": 2,
   "id": "b2e10052-bfd9-4b6b-9d5f-58191933fb75",
   "metadata": {},
   "outputs": [],
   "source": [
    "import csv"
   ]
  },
  {
   "cell_type": "code",
   "execution_count": 3,
   "id": "50159081-922e-43ba-9984-37c3dbf473a9",
   "metadata": {},
   "outputs": [],
   "source": [
    "input_file = 'train_data.txt'\n",
    "output_file = 'train_data.csv'\n",
    "delimiter = '|'\n",
    "column_names = ['id','title','genre','description']"
   ]
  },
  {
   "cell_type": "code",
   "execution_count": 4,
   "id": "ffa58f57-97b4-45f8-90ec-3f2ccc65bdae",
   "metadata": {},
   "outputs": [
    {
     "name": "stdout",
     "output_type": "stream",
     "text": [
      "File converted successfully from train_data.txt to train_data.csv\n"
     ]
    }
   ],
   "source": [
    "with open(input_file, 'r', newline='', encoding='utf-8') as txt_file:\n",
    "    reader = csv.reader(txt_file, delimiter=delimiter)\n",
    "    \n",
    "    with open(output_file, 'w', newline='', encoding='utf-8') as csv_file:\n",
    "        writer = csv.writer(csv_file)\n",
    "        \n",
    "        # Write the column headers\n",
    "        writer.writerow(column_names)\n",
    "        \n",
    "        # Write the data rows\n",
    "        for row in reader:\n",
    "            writer.writerow(row)\n",
    "\n",
    "print(f'File converted successfully from {input_file} to {output_file}')"
   ]
  },
  {
   "cell_type": "code",
   "execution_count": 5,
   "id": "e1c227a6-83ac-43da-84db-ad789566d5a8",
   "metadata": {},
   "outputs": [],
   "source": [
    "df_train = pd.read_csv('train_data.csv')"
   ]
  },
  {
   "cell_type": "code",
   "execution_count": 6,
   "id": "9cdfc43d-8ead-460c-9cd4-b62cfc704695",
   "metadata": {},
   "outputs": [
    {
     "data": {
      "text/html": [
       "<div>\n",
       "<style scoped>\n",
       "    .dataframe tbody tr th:only-of-type {\n",
       "        vertical-align: middle;\n",
       "    }\n",
       "\n",
       "    .dataframe tbody tr th {\n",
       "        vertical-align: top;\n",
       "    }\n",
       "\n",
       "    .dataframe thead th {\n",
       "        text-align: right;\n",
       "    }\n",
       "</style>\n",
       "<table border=\"1\" class=\"dataframe\">\n",
       "  <thead>\n",
       "    <tr style=\"text-align: right;\">\n",
       "      <th></th>\n",
       "      <th>id</th>\n",
       "      <th>title</th>\n",
       "      <th>genre</th>\n",
       "      <th>description</th>\n",
       "    </tr>\n",
       "  </thead>\n",
       "  <tbody>\n",
       "    <tr>\n",
       "      <th>0</th>\n",
       "      <td>1</td>\n",
       "      <td>Oscar et la dame rose (2009)</td>\n",
       "      <td>drama</td>\n",
       "      <td>Listening in to a conversation between his do...</td>\n",
       "    </tr>\n",
       "    <tr>\n",
       "      <th>1</th>\n",
       "      <td>2</td>\n",
       "      <td>Cupid (1997)</td>\n",
       "      <td>thriller</td>\n",
       "      <td>A brother and sister with a past incestuous r...</td>\n",
       "    </tr>\n",
       "    <tr>\n",
       "      <th>2</th>\n",
       "      <td>3</td>\n",
       "      <td>Young, Wild and Wonderful (1980)</td>\n",
       "      <td>adult</td>\n",
       "      <td>As the bus empties the students for their fie...</td>\n",
       "    </tr>\n",
       "    <tr>\n",
       "      <th>3</th>\n",
       "      <td>4</td>\n",
       "      <td>The Secret Sin (1915)</td>\n",
       "      <td>drama</td>\n",
       "      <td>To help their unemployed father make ends mee...</td>\n",
       "    </tr>\n",
       "    <tr>\n",
       "      <th>4</th>\n",
       "      <td>5</td>\n",
       "      <td>The Unrecovered (2007)</td>\n",
       "      <td>drama</td>\n",
       "      <td>The film's title refers not only to the un-re...</td>\n",
       "    </tr>\n",
       "  </tbody>\n",
       "</table>\n",
       "</div>"
      ],
      "text/plain": [
       "   id                               title       genre  \\\n",
       "0   1       Oscar et la dame rose (2009)       drama    \n",
       "1   2                       Cupid (1997)    thriller    \n",
       "2   3   Young, Wild and Wonderful (1980)       adult    \n",
       "3   4              The Secret Sin (1915)       drama    \n",
       "4   5             The Unrecovered (2007)       drama    \n",
       "\n",
       "                                         description  \n",
       "0   Listening in to a conversation between his do...  \n",
       "1   A brother and sister with a past incestuous r...  \n",
       "2   As the bus empties the students for their fie...  \n",
       "3   To help their unemployed father make ends mee...  \n",
       "4   The film's title refers not only to the un-re...  "
      ]
     },
     "execution_count": 6,
     "metadata": {},
     "output_type": "execute_result"
    }
   ],
   "source": [
    "df_train.head()"
   ]
  },
  {
   "cell_type": "code",
   "execution_count": 7,
   "id": "33edfdc5-7bba-4b49-9dc2-dfc5e62d7388",
   "metadata": {},
   "outputs": [
    {
     "data": {
      "text/plain": [
       "id              int64\n",
       "title          object\n",
       "genre          object\n",
       "description    object\n",
       "dtype: object"
      ]
     },
     "execution_count": 7,
     "metadata": {},
     "output_type": "execute_result"
    }
   ],
   "source": [
    "df_train.dtypes"
   ]
  },
  {
   "cell_type": "code",
   "execution_count": 8,
   "id": "0a7ef81d-8553-4faf-a972-1e5d2740aad5",
   "metadata": {},
   "outputs": [
    {
     "data": {
      "text/plain": [
       "id             0\n",
       "title          0\n",
       "genre          0\n",
       "description    0\n",
       "dtype: int64"
      ]
     },
     "execution_count": 8,
     "metadata": {},
     "output_type": "execute_result"
    }
   ],
   "source": [
    "df_train.isnull().sum()"
   ]
  },
  {
   "cell_type": "code",
   "execution_count": 9,
   "id": "83fd1468-38e6-4798-b489-da968b9fc4ad",
   "metadata": {},
   "outputs": [
    {
     "data": {
      "text/plain": [
       "0                       Oscar et la dame rose (2009) \n",
       "1                                       Cupid (1997) \n",
       "2                   Young, Wild and Wonderful (1980) \n",
       "3                              The Secret Sin (1915) \n",
       "4                             The Unrecovered (2007) \n",
       "                             ...                     \n",
       "54209                                \"Bonino\" (1953) \n",
       "54210                    Dead Girls Don't Cry (????) \n",
       "54211      Ronald Goedemondt: Ze bestaan echt (2008) \n",
       "54212                       Make Your Own Bed (1944) \n",
       "54213     Nature's Fury: Storm of the Century (2006) \n",
       "Name: title, Length: 54214, dtype: object"
      ]
     },
     "execution_count": 9,
     "metadata": {},
     "output_type": "execute_result"
    }
   ],
   "source": [
    "df_train['title']"
   ]
  },
  {
   "cell_type": "code",
   "execution_count": 10,
   "id": "827361fe-40eb-4a53-94e8-c42b51210dff",
   "metadata": {},
   "outputs": [
    {
     "data": {
      "text/plain": [
       "0               drama \n",
       "1            thriller \n",
       "2               adult \n",
       "3               drama \n",
       "4               drama \n",
       "             ...      \n",
       "54209          comedy \n",
       "54210          horror \n",
       "54211     documentary \n",
       "54212          comedy \n",
       "54213         history \n",
       "Name: genre, Length: 54214, dtype: object"
      ]
     },
     "execution_count": 10,
     "metadata": {},
     "output_type": "execute_result"
    }
   ],
   "source": [
    "df_train['genre']"
   ]
  },
  {
   "cell_type": "code",
   "execution_count": 11,
   "id": "ffd11383-487a-42a7-9f5f-b1a6baa47db2",
   "metadata": {},
   "outputs": [
    {
     "data": {
      "text/plain": [
       "genre\n",
       "drama           13613\n",
       "documentary     13096\n",
       "comedy           7447\n",
       "short            5073\n",
       "horror           2204\n",
       "thriller         1591\n",
       "action           1315\n",
       "western          1032\n",
       "reality-tv        884\n",
       "family            784\n",
       "adventure         775\n",
       "music             731\n",
       "romance           672\n",
       "sci-fi            647\n",
       "adult             590\n",
       "crime             505\n",
       "animation         498\n",
       "sport             432\n",
       "talk-show         391\n",
       "fantasy           323\n",
       "mystery           319\n",
       "musical           277\n",
       "biography         265\n",
       "history           243\n",
       "game-show         194\n",
       "news              181\n",
       "war               132\n",
       "Name: count, dtype: int64"
      ]
     },
     "execution_count": 11,
     "metadata": {},
     "output_type": "execute_result"
    }
   ],
   "source": [
    "df_train['genre'].value_counts()"
   ]
  },
  {
   "cell_type": "code",
   "execution_count": 12,
   "id": "2ba7a585-beb4-478e-8e6e-6386981ae37b",
   "metadata": {},
   "outputs": [
    {
     "data": {
      "text/plain": [
       "array([' drama ', ' thriller ', ' adult ', ' documentary ', ' comedy ',\n",
       "       ' crime ', ' reality-tv ', ' horror ', ' sport ', ' animation ',\n",
       "       ' action ', ' fantasy ', ' short ', ' sci-fi ', ' music ',\n",
       "       ' adventure ', ' talk-show ', ' western ', ' family ', ' mystery ',\n",
       "       ' history ', ' news ', ' biography ', ' romance ', ' game-show ',\n",
       "       ' musical ', ' war '], dtype=object)"
      ]
     },
     "execution_count": 12,
     "metadata": {},
     "output_type": "execute_result"
    }
   ],
   "source": [
    "df_train['genre'].unique()"
   ]
  },
  {
   "cell_type": "code",
   "execution_count": 13,
   "id": "4fca22a8-098b-4d52-8fc3-d2b5d8a7f0a9",
   "metadata": {},
   "outputs": [],
   "source": [
    "encode_genre = { ' drama ':0, ' thriller ':1, ' adult ':2, ' documentary ':3, ' comedy ':4,\n",
    "       ' crime ':5, ' reality-tv ':6, ' horror ':7, ' sport ':8, ' animation ':9,\n",
    "       ' action ':10, ' fantasy ':11, ' short ':12, ' sci-fi ':13, ' music ':14,\n",
    "       ' adventure ':15, ' talk-show ':16, ' western ':17, ' family ':18, ' mystery ':19,\n",
    "       ' history ':20, ' news ':21, ' biography ':22, ' romance ':23, ' game-show ':24,\n",
    "       ' musical ':25, ' war ':26 } "
   ]
  },
  {
   "cell_type": "code",
   "execution_count": 14,
   "id": "177a3db0-2f2b-470f-89f5-d32c1a590ffb",
   "metadata": {},
   "outputs": [],
   "source": [
    "dataset = df_train"
   ]
  },
  {
   "cell_type": "code",
   "execution_count": 15,
   "id": "b301b50f-17c6-4afb-8d29-81c0ad5efdf1",
   "metadata": {},
   "outputs": [
    {
     "data": {
      "text/html": [
       "<div>\n",
       "<style scoped>\n",
       "    .dataframe tbody tr th:only-of-type {\n",
       "        vertical-align: middle;\n",
       "    }\n",
       "\n",
       "    .dataframe tbody tr th {\n",
       "        vertical-align: top;\n",
       "    }\n",
       "\n",
       "    .dataframe thead th {\n",
       "        text-align: right;\n",
       "    }\n",
       "</style>\n",
       "<table border=\"1\" class=\"dataframe\">\n",
       "  <thead>\n",
       "    <tr style=\"text-align: right;\">\n",
       "      <th></th>\n",
       "      <th>id</th>\n",
       "      <th>title</th>\n",
       "      <th>genre</th>\n",
       "      <th>description</th>\n",
       "    </tr>\n",
       "  </thead>\n",
       "  <tbody>\n",
       "    <tr>\n",
       "      <th>0</th>\n",
       "      <td>1</td>\n",
       "      <td>Oscar et la dame rose (2009)</td>\n",
       "      <td>drama</td>\n",
       "      <td>Listening in to a conversation between his do...</td>\n",
       "    </tr>\n",
       "    <tr>\n",
       "      <th>1</th>\n",
       "      <td>2</td>\n",
       "      <td>Cupid (1997)</td>\n",
       "      <td>thriller</td>\n",
       "      <td>A brother and sister with a past incestuous r...</td>\n",
       "    </tr>\n",
       "    <tr>\n",
       "      <th>2</th>\n",
       "      <td>3</td>\n",
       "      <td>Young, Wild and Wonderful (1980)</td>\n",
       "      <td>adult</td>\n",
       "      <td>As the bus empties the students for their fie...</td>\n",
       "    </tr>\n",
       "    <tr>\n",
       "      <th>3</th>\n",
       "      <td>4</td>\n",
       "      <td>The Secret Sin (1915)</td>\n",
       "      <td>drama</td>\n",
       "      <td>To help their unemployed father make ends mee...</td>\n",
       "    </tr>\n",
       "    <tr>\n",
       "      <th>4</th>\n",
       "      <td>5</td>\n",
       "      <td>The Unrecovered (2007)</td>\n",
       "      <td>drama</td>\n",
       "      <td>The film's title refers not only to the un-re...</td>\n",
       "    </tr>\n",
       "  </tbody>\n",
       "</table>\n",
       "</div>"
      ],
      "text/plain": [
       "   id                               title       genre  \\\n",
       "0   1       Oscar et la dame rose (2009)       drama    \n",
       "1   2                       Cupid (1997)    thriller    \n",
       "2   3   Young, Wild and Wonderful (1980)       adult    \n",
       "3   4              The Secret Sin (1915)       drama    \n",
       "4   5             The Unrecovered (2007)       drama    \n",
       "\n",
       "                                         description  \n",
       "0   Listening in to a conversation between his do...  \n",
       "1   A brother and sister with a past incestuous r...  \n",
       "2   As the bus empties the students for their fie...  \n",
       "3   To help their unemployed father make ends mee...  \n",
       "4   The film's title refers not only to the un-re...  "
      ]
     },
     "execution_count": 15,
     "metadata": {},
     "output_type": "execute_result"
    }
   ],
   "source": [
    "dataset.head()"
   ]
  },
  {
   "cell_type": "code",
   "execution_count": 16,
   "id": "6127c0f4-4bf4-4ea8-b16d-6a7599f62c21",
   "metadata": {},
   "outputs": [],
   "source": [
    "dataset['genre'] = dataset['genre'].map(encode_genre)"
   ]
  },
  {
   "cell_type": "code",
   "execution_count": 17,
   "id": "377355fd-304b-48b9-b9a0-ec35d5b05881",
   "metadata": {},
   "outputs": [
    {
     "data": {
      "text/html": [
       "<div>\n",
       "<style scoped>\n",
       "    .dataframe tbody tr th:only-of-type {\n",
       "        vertical-align: middle;\n",
       "    }\n",
       "\n",
       "    .dataframe tbody tr th {\n",
       "        vertical-align: top;\n",
       "    }\n",
       "\n",
       "    .dataframe thead th {\n",
       "        text-align: right;\n",
       "    }\n",
       "</style>\n",
       "<table border=\"1\" class=\"dataframe\">\n",
       "  <thead>\n",
       "    <tr style=\"text-align: right;\">\n",
       "      <th></th>\n",
       "      <th>id</th>\n",
       "      <th>title</th>\n",
       "      <th>genre</th>\n",
       "      <th>description</th>\n",
       "    </tr>\n",
       "  </thead>\n",
       "  <tbody>\n",
       "    <tr>\n",
       "      <th>0</th>\n",
       "      <td>1</td>\n",
       "      <td>Oscar et la dame rose (2009)</td>\n",
       "      <td>0</td>\n",
       "      <td>Listening in to a conversation between his do...</td>\n",
       "    </tr>\n",
       "    <tr>\n",
       "      <th>1</th>\n",
       "      <td>2</td>\n",
       "      <td>Cupid (1997)</td>\n",
       "      <td>1</td>\n",
       "      <td>A brother and sister with a past incestuous r...</td>\n",
       "    </tr>\n",
       "    <tr>\n",
       "      <th>2</th>\n",
       "      <td>3</td>\n",
       "      <td>Young, Wild and Wonderful (1980)</td>\n",
       "      <td>2</td>\n",
       "      <td>As the bus empties the students for their fie...</td>\n",
       "    </tr>\n",
       "    <tr>\n",
       "      <th>3</th>\n",
       "      <td>4</td>\n",
       "      <td>The Secret Sin (1915)</td>\n",
       "      <td>0</td>\n",
       "      <td>To help their unemployed father make ends mee...</td>\n",
       "    </tr>\n",
       "    <tr>\n",
       "      <th>4</th>\n",
       "      <td>5</td>\n",
       "      <td>The Unrecovered (2007)</td>\n",
       "      <td>0</td>\n",
       "      <td>The film's title refers not only to the un-re...</td>\n",
       "    </tr>\n",
       "  </tbody>\n",
       "</table>\n",
       "</div>"
      ],
      "text/plain": [
       "   id                               title  genre  \\\n",
       "0   1       Oscar et la dame rose (2009)       0   \n",
       "1   2                       Cupid (1997)       1   \n",
       "2   3   Young, Wild and Wonderful (1980)       2   \n",
       "3   4              The Secret Sin (1915)       0   \n",
       "4   5             The Unrecovered (2007)       0   \n",
       "\n",
       "                                         description  \n",
       "0   Listening in to a conversation between his do...  \n",
       "1   A brother and sister with a past incestuous r...  \n",
       "2   As the bus empties the students for their fie...  \n",
       "3   To help their unemployed father make ends mee...  \n",
       "4   The film's title refers not only to the un-re...  "
      ]
     },
     "execution_count": 17,
     "metadata": {},
     "output_type": "execute_result"
    }
   ],
   "source": [
    "dataset.head()"
   ]
  },
  {
   "cell_type": "code",
   "execution_count": 18,
   "id": "9ad58024-6394-47f6-8804-a154d4018c8e",
   "metadata": {},
   "outputs": [],
   "source": [
    "import re\n",
    "import nltk"
   ]
  },
  {
   "cell_type": "code",
   "execution_count": 19,
   "id": "ab1f554b-2c99-4152-b7f8-0bca6f530c93",
   "metadata": {},
   "outputs": [
    {
     "name": "stdout",
     "output_type": "stream",
     "text": [
      "Requirement already satisfied: rel in c:\\users\\gunta\\appdata\\local\\programs\\python\\python311\\lib\\site-packages (0.4.9.19)\n",
      "Requirement already satisfied: nltk in c:\\users\\gunta\\appdata\\local\\programs\\python\\python311\\lib\\site-packages (3.8.1)\n",
      "Requirement already satisfied: click in c:\\users\\gunta\\appdata\\local\\programs\\python\\python311\\lib\\site-packages (from nltk) (8.1.3)\n",
      "Requirement already satisfied: joblib in c:\\users\\gunta\\appdata\\local\\programs\\python\\python311\\lib\\site-packages (from nltk) (1.3.2)\n",
      "Requirement already satisfied: regex>=2021.8.3 in c:\\users\\gunta\\appdata\\local\\programs\\python\\python311\\lib\\site-packages (from nltk) (2024.5.15)\n",
      "Requirement already satisfied: tqdm in c:\\users\\gunta\\appdata\\local\\programs\\python\\python311\\lib\\site-packages (from nltk) (4.66.4)\n",
      "Requirement already satisfied: colorama in c:\\users\\gunta\\appdata\\local\\programs\\python\\python311\\lib\\site-packages (from click->nltk) (0.4.6)\n"
     ]
    }
   ],
   "source": [
    "!pip install rel\n",
    "!pip install nltk"
   ]
  },
  {
   "cell_type": "code",
   "execution_count": 20,
   "id": "74bbd5b7-540e-41a6-802a-f3c7b0b484e8",
   "metadata": {},
   "outputs": [
    {
     "name": "stderr",
     "output_type": "stream",
     "text": [
      "[nltk_data] Downloading package stopwords to\n",
      "[nltk_data]     C:\\Users\\gunta\\AppData\\Roaming\\nltk_data...\n",
      "[nltk_data]   Package stopwords is already up-to-date!\n"
     ]
    },
    {
     "data": {
      "text/plain": [
       "True"
      ]
     },
     "execution_count": 20,
     "metadata": {},
     "output_type": "execute_result"
    }
   ],
   "source": [
    "nltk.download('stopwords')"
   ]
  },
  {
   "cell_type": "code",
   "execution_count": 21,
   "id": "70261008-5c0c-4d4a-a24a-a53d084e1f6d",
   "metadata": {},
   "outputs": [],
   "source": [
    "from nltk.corpus import stopwords\n",
    "from nltk.stem.porter import PorterStemmer"
   ]
  },
  {
   "cell_type": "code",
   "execution_count": 22,
   "id": "3df5601b-4f94-43fa-a6c4-98557a2ecc68",
   "metadata": {},
   "outputs": [],
   "source": [
    "corpus = []"
   ]
  },
  {
   "cell_type": "code",
   "execution_count": 23,
   "id": "9ffd12e9-b427-4446-85b4-065b08c32873",
   "metadata": {},
   "outputs": [
    {
     "data": {
      "text/plain": [
       "' Listening in to a conversation between his doctor and parents, 10-year-old Oscar learns what nobody has the courage to tell him. He only has a few weeks to live. Furious, he refuses to speak to anyone except straight-talking Rose, the lady in pink he meets on the hospital stairs. As Christmas approaches, Rose uses her fantastical experiences as a professional wrestler, her imagination, wit and charm to allow Oscar to live life and love to the full, in the company of his friends Pop Corn, Einstein, Bacon and childhood sweetheart Peggy Blue.'"
      ]
     },
     "execution_count": 23,
     "metadata": {},
     "output_type": "execute_result"
    }
   ],
   "source": [
    "dataset['description'][0]"
   ]
  },
  {
   "cell_type": "code",
   "execution_count": 24,
   "id": "9e323bc4-1dce-424f-8c91-a0d5619bfa94",
   "metadata": {},
   "outputs": [],
   "source": [
    "for i in range(min(10000, dataset.shape[0])):\n",
    "    text = re.sub(pattern='[^a-zA-Z]',repl=' ',string = dataset['description'][i])\n",
    "    text = text.lower()\n",
    "    words = text.split()\n",
    "    cleaned_words = [word for word in words if word not in set(stopwords.words('english'))]\n",
    "    ps = PorterStemmer()\n",
    "    words = [ps.stem(word) for word in cleaned_words]\n",
    "    text = ' '.join(words)\n",
    "    corpus.append(text)"
   ]
  },
  {
   "cell_type": "code",
   "execution_count": 25,
   "id": "e361afff-920b-4a6a-95a1-75aa181f7ef8",
   "metadata": {},
   "outputs": [
    {
     "data": {
      "text/plain": [
       "'listen convers doctor parent year old oscar learn nobodi courag tell week live furiou refus speak anyon except straight talk rose ladi pink meet hospit stair christma approach rose use fantast experi profession wrestler imagin wit charm allow oscar live life love full compani friend pop corn einstein bacon childhood sweetheart peggi blue'"
      ]
     },
     "execution_count": 25,
     "metadata": {},
     "output_type": "execute_result"
    }
   ],
   "source": [
    "corpus[0]"
   ]
  },
  {
   "cell_type": "code",
   "execution_count": 26,
   "id": "9f110420-e346-43b7-b51a-3ebc9b1d1057",
   "metadata": {},
   "outputs": [],
   "source": [
    "from sklearn.feature_extraction.text import CountVectorizer\n",
    "cv = CountVectorizer(max_features = 10000 , ngram_range = (1,2))\n",
    "x = cv.fit_transform(corpus[1:10000]).toarray()\n",
    "y = dataset['genre'][1:10000].values"
   ]
  },
  {
   "cell_type": "code",
   "execution_count": 27,
   "id": "b4aab248-9d22-45be-bdec-60e66f461c74",
   "metadata": {},
   "outputs": [
    {
     "data": {
      "text/plain": [
       "(9999,)"
      ]
     },
     "execution_count": 27,
     "metadata": {},
     "output_type": "execute_result"
    }
   ],
   "source": [
    "y.shape"
   ]
  },
  {
   "cell_type": "code",
   "execution_count": 28,
   "id": "f069fd32-b00c-4a4f-ba31-c95227e921b5",
   "metadata": {},
   "outputs": [],
   "source": [
    "from sklearn.model_selection import train_test_split\n",
    "x_train , x_test , y_train, y_test = train_test_split(x,y,test_size=0.2,random_state = 2 )"
   ]
  },
  {
   "cell_type": "code",
   "execution_count": 29,
   "id": "f8b07d3e-22bf-4758-a823-afe53b80bde7",
   "metadata": {},
   "outputs": [
    {
     "data": {
      "text/html": [
       "<style>#sk-container-id-1 {color: black;}#sk-container-id-1 pre{padding: 0;}#sk-container-id-1 div.sk-toggleable {background-color: white;}#sk-container-id-1 label.sk-toggleable__label {cursor: pointer;display: block;width: 100%;margin-bottom: 0;padding: 0.3em;box-sizing: border-box;text-align: center;}#sk-container-id-1 label.sk-toggleable__label-arrow:before {content: \"▸\";float: left;margin-right: 0.25em;color: #696969;}#sk-container-id-1 label.sk-toggleable__label-arrow:hover:before {color: black;}#sk-container-id-1 div.sk-estimator:hover label.sk-toggleable__label-arrow:before {color: black;}#sk-container-id-1 div.sk-toggleable__content {max-height: 0;max-width: 0;overflow: hidden;text-align: left;background-color: #f0f8ff;}#sk-container-id-1 div.sk-toggleable__content pre {margin: 0.2em;color: black;border-radius: 0.25em;background-color: #f0f8ff;}#sk-container-id-1 input.sk-toggleable__control:checked~div.sk-toggleable__content {max-height: 200px;max-width: 100%;overflow: auto;}#sk-container-id-1 input.sk-toggleable__control:checked~label.sk-toggleable__label-arrow:before {content: \"▾\";}#sk-container-id-1 div.sk-estimator input.sk-toggleable__control:checked~label.sk-toggleable__label {background-color: #d4ebff;}#sk-container-id-1 div.sk-label input.sk-toggleable__control:checked~label.sk-toggleable__label {background-color: #d4ebff;}#sk-container-id-1 input.sk-hidden--visually {border: 0;clip: rect(1px 1px 1px 1px);clip: rect(1px, 1px, 1px, 1px);height: 1px;margin: -1px;overflow: hidden;padding: 0;position: absolute;width: 1px;}#sk-container-id-1 div.sk-estimator {font-family: monospace;background-color: #f0f8ff;border: 1px dotted black;border-radius: 0.25em;box-sizing: border-box;margin-bottom: 0.5em;}#sk-container-id-1 div.sk-estimator:hover {background-color: #d4ebff;}#sk-container-id-1 div.sk-parallel-item::after {content: \"\";width: 100%;border-bottom: 1px solid gray;flex-grow: 1;}#sk-container-id-1 div.sk-label:hover label.sk-toggleable__label {background-color: #d4ebff;}#sk-container-id-1 div.sk-serial::before {content: \"\";position: absolute;border-left: 1px solid gray;box-sizing: border-box;top: 0;bottom: 0;left: 50%;z-index: 0;}#sk-container-id-1 div.sk-serial {display: flex;flex-direction: column;align-items: center;background-color: white;padding-right: 0.2em;padding-left: 0.2em;position: relative;}#sk-container-id-1 div.sk-item {position: relative;z-index: 1;}#sk-container-id-1 div.sk-parallel {display: flex;align-items: stretch;justify-content: center;background-color: white;position: relative;}#sk-container-id-1 div.sk-item::before, #sk-container-id-1 div.sk-parallel-item::before {content: \"\";position: absolute;border-left: 1px solid gray;box-sizing: border-box;top: 0;bottom: 0;left: 50%;z-index: -1;}#sk-container-id-1 div.sk-parallel-item {display: flex;flex-direction: column;z-index: 1;position: relative;background-color: white;}#sk-container-id-1 div.sk-parallel-item:first-child::after {align-self: flex-end;width: 50%;}#sk-container-id-1 div.sk-parallel-item:last-child::after {align-self: flex-start;width: 50%;}#sk-container-id-1 div.sk-parallel-item:only-child::after {width: 0;}#sk-container-id-1 div.sk-dashed-wrapped {border: 1px dashed gray;margin: 0 0.4em 0.5em 0.4em;box-sizing: border-box;padding-bottom: 0.4em;background-color: white;}#sk-container-id-1 div.sk-label label {font-family: monospace;font-weight: bold;display: inline-block;line-height: 1.2em;}#sk-container-id-1 div.sk-label-container {text-align: center;}#sk-container-id-1 div.sk-container {/* jupyter's `normalize.less` sets `[hidden] { display: none; }` but bootstrap.min.css set `[hidden] { display: none !important; }` so we also need the `!important` here to be able to override the default hidden behavior on the sphinx rendered scikit-learn.org. See: https://github.com/scikit-learn/scikit-learn/issues/21755 */display: inline-block !important;position: relative;}#sk-container-id-1 div.sk-text-repr-fallback {display: none;}</style><div id=\"sk-container-id-1\" class=\"sk-top-container\"><div class=\"sk-text-repr-fallback\"><pre>MultinomialNB(alpha=0.1)</pre><b>In a Jupyter environment, please rerun this cell to show the HTML representation or trust the notebook. <br />On GitHub, the HTML representation is unable to render, please try loading this page with nbviewer.org.</b></div><div class=\"sk-container\" hidden><div class=\"sk-item\"><div class=\"sk-estimator sk-toggleable\"><input class=\"sk-toggleable__control sk-hidden--visually\" id=\"sk-estimator-id-1\" type=\"checkbox\" checked><label for=\"sk-estimator-id-1\" class=\"sk-toggleable__label sk-toggleable__label-arrow\">MultinomialNB</label><div class=\"sk-toggleable__content\"><pre>MultinomialNB(alpha=0.1)</pre></div></div></div></div></div>"
      ],
      "text/plain": [
       "MultinomialNB(alpha=0.1)"
      ]
     },
     "execution_count": 29,
     "metadata": {},
     "output_type": "execute_result"
    }
   ],
   "source": [
    "from sklearn.naive_bayes import MultinomialNB\n",
    "classifier = MultinomialNB(alpha=0.1)\n",
    "classifier.fit(x_train,y_train)"
   ]
  },
  {
   "cell_type": "code",
   "execution_count": 30,
   "id": "b02bf098-6034-4bef-8b30-76e467e01801",
   "metadata": {},
   "outputs": [
    {
     "data": {
      "text/plain": [
       "array([ 3,  3, 13, ...,  0,  3,  4], dtype=int64)"
      ]
     },
     "execution_count": 30,
     "metadata": {},
     "output_type": "execute_result"
    }
   ],
   "source": [
    "y_pred = classifier.predict(x_test)\n",
    "y_pred"
   ]
  },
  {
   "cell_type": "code",
   "execution_count": 31,
   "id": "70a7e5cd-0736-4c01-9ca1-25ce8c9a6fa5",
   "metadata": {},
   "outputs": [
    {
     "data": {
      "text/plain": [
       "array([[304,  11,   0,  44,  56,   3,   2,   4,   1,   0,   7,   1,  22,\n",
       "          0,   0,   2,   0,   2,   0,   0,   0,   0,   2,   7,   0,   1,\n",
       "          1],\n",
       "       [ 32,  19,   0,   2,   6,   1,   0,  12,   0,   0,   2,   0,   4,\n",
       "          0,   0,   0,   0,   0,   0,   0,   0,   0,   0,   0,   0,   0,\n",
       "          0],\n",
       "       [  3,   0,   7,   1,   7,   0,   0,   1,   0,   0,   0,   0,   1,\n",
       "          0,   0,   0,   0,   0,   0,   0,   0,   0,   0,   0,   0,   0,\n",
       "          0],\n",
       "       [ 39,   1,   0, 396,  11,   1,   5,   5,   0,   0,   2,   1,  15,\n",
       "          2,   9,   0,   3,   0,   1,   1,   0,   1,   1,   0,   0,   0,\n",
       "          0],\n",
       "       [ 77,   5,   1,  12, 136,   1,   4,   1,   0,   1,   7,   0,   9,\n",
       "          0,   3,   0,   3,   1,   1,   0,   0,   0,   1,   6,   0,   2,\n",
       "          0],\n",
       "       [  6,   2,   0,   0,   3,   1,   0,   1,   0,   0,   0,   0,   0,\n",
       "          0,   0,   0,   0,   0,   0,   0,   0,   0,   0,   0,   0,   0,\n",
       "          0],\n",
       "       [  1,   0,   1,  11,   9,   0,  10,   1,   0,   0,   0,   0,   4,\n",
       "          0,   0,   0,   0,   0,   0,   0,   0,   0,   0,   1,   0,   0,\n",
       "          0],\n",
       "       [ 15,   5,   0,   3,   4,   0,   0,  50,   0,   0,   1,   3,   5,\n",
       "          0,   0,   2,   0,   0,   0,   0,   0,   0,   0,   0,   0,   0,\n",
       "          0],\n",
       "       [  1,   0,   0,   5,   0,   0,   2,   0,   9,   0,   0,   0,   0,\n",
       "          0,   1,   0,   0,   0,   0,   0,   0,   0,   0,   0,   0,   0,\n",
       "          0],\n",
       "       [  2,   0,   0,   0,   3,   0,   0,   2,   0,   2,   1,   0,   4,\n",
       "          1,   0,   3,   0,   0,   2,   0,   0,   0,   0,   1,   0,   0,\n",
       "          0],\n",
       "       [  7,   6,   0,   4,   2,   0,   1,   2,   1,   0,   8,   2,   1,\n",
       "          3,   0,   1,   0,   0,   0,   0,   0,   0,   0,   0,   0,   0,\n",
       "          0],\n",
       "       [  3,   0,   0,   2,   2,   0,   0,   0,   0,   0,   1,   2,   1,\n",
       "          0,   0,   0,   0,   0,   1,   0,   0,   0,   0,   0,   0,   0,\n",
       "          0],\n",
       "       [ 51,   5,   0,  62,  18,   0,   0,   3,   0,   2,   1,   1,  39,\n",
       "          0,   1,   0,   0,   0,   1,   1,   0,   0,   1,   1,   0,   0,\n",
       "          0],\n",
       "       [  4,   1,   0,   5,   0,   0,   1,   3,   0,   1,   0,   1,   3,\n",
       "         13,   0,   0,   0,   0,   0,   0,   0,   0,   0,   0,   0,   0,\n",
       "          0],\n",
       "       [  0,   0,   0,   5,   0,   0,   0,   0,   1,   0,   0,   0,   0,\n",
       "          0,  17,   0,   0,   0,   0,   0,   0,   0,   2,   0,   0,   0,\n",
       "          0],\n",
       "       [  7,   1,   2,   6,   2,   1,   2,   0,   0,   1,   2,   0,   1,\n",
       "          1,   0,   7,   0,   1,   0,   0,   0,   0,   0,   0,   0,   0,\n",
       "          0],\n",
       "       [  0,   0,   0,   6,   2,   0,   1,   0,   0,   0,   0,   0,   0,\n",
       "          0,   2,   0,   2,   0,   0,   0,   0,   1,   0,   0,   0,   0,\n",
       "          0],\n",
       "       [  0,   1,   0,   1,   0,   1,   0,   0,   0,   0,   1,   0,   0,\n",
       "          0,   0,   0,   0,  37,   0,   0,   0,   0,   0,   0,   0,   0,\n",
       "          0],\n",
       "       [  4,   0,   0,   3,   6,   0,   1,   1,   0,   1,   1,   0,   5,\n",
       "          0,   0,   0,   0,   0,   1,   0,   0,   0,   0,   0,   0,   0,\n",
       "          0],\n",
       "       [  2,   1,   0,   0,   1,   0,   0,   3,   0,   0,   0,   0,   2,\n",
       "          0,   0,   1,   0,   0,   0,   0,   0,   0,   0,   1,   0,   0,\n",
       "          0],\n",
       "       [  6,   0,   0,   6,   0,   0,   0,   0,   0,   0,   0,   0,   0,\n",
       "          0,   0,   0,   0,   0,   0,   0,   0,   0,   0,   0,   0,   0,\n",
       "          1],\n",
       "       [  1,   0,   0,   2,   1,   0,   0,   1,   0,   0,   0,   0,   1,\n",
       "          0,   0,   0,   1,   0,   0,   0,   0,   0,   0,   0,   0,   0,\n",
       "          0],\n",
       "       [  2,   0,   0,   5,   0,   0,   1,   0,   0,   0,   0,   0,   0,\n",
       "          0,   0,   0,   0,   0,   0,   0,   0,   0,   0,   0,   0,   0,\n",
       "          0],\n",
       "       [ 14,   1,   0,   2,   1,   0,   0,   0,   0,   0,   0,   0,   0,\n",
       "          0,   0,   0,   0,   0,   0,   0,   0,   0,   0,   3,   0,   0,\n",
       "          0],\n",
       "       [  0,   0,   0,   0,   2,   0,   1,   0,   0,   0,   0,   0,   0,\n",
       "          0,   0,   0,   0,   0,   0,   0,   0,   0,   0,   0,   7,   0,\n",
       "          0],\n",
       "       [  1,   0,   0,   3,   1,   0,   0,   0,   0,   0,   0,   0,   0,\n",
       "          0,   1,   0,   0,   0,   0,   0,   0,   0,   0,   0,   0,   0,\n",
       "          0],\n",
       "       [  0,   0,   0,   3,   0,   0,   0,   0,   0,   0,   0,   0,   2,\n",
       "          0,   0,   1,   0,   0,   0,   0,   0,   0,   0,   0,   0,   0,\n",
       "          1]], dtype=int64)"
      ]
     },
     "execution_count": 31,
     "metadata": {},
     "output_type": "execute_result"
    }
   ],
   "source": [
    "from sklearn.metrics import confusion_matrix\n",
    "cm = confusion_matrix(y_test,y_pred)\n",
    "cm"
   ]
  },
  {
   "cell_type": "code",
   "execution_count": 32,
   "id": "4e7f58e6-893e-4c9b-b6b8-1b8898622795",
   "metadata": {},
   "outputs": [
    {
     "data": {
      "text/plain": [
       "<Axes: >"
      ]
     },
     "execution_count": 32,
     "metadata": {},
     "output_type": "execute_result"
    },
    {
     "data": {
      "image/png": "[encoded data removed]",
      "text/plain": [
       "<Figure size 640x480 with 2 Axes>"
      ]
     },
     "metadata": {},
     "output_type": "display_data"
    }
   ],
   "source": [
    "import seaborn as sns\n",
    "sns.heatmap(cm,annot=True)"
   ]
  },
  {
   "cell_type": "code",
   "execution_count": 33,
   "id": "b758b316-b218-4f11-b2d4-e71ce18858fe",
   "metadata": {},
   "outputs": [
    {
     "data": {
      "text/plain": [
       "0.5355"
      ]
     },
     "execution_count": 33,
     "metadata": {},
     "output_type": "execute_result"
    }
   ],
   "source": [
    "from sklearn.metrics import accuracy_score \n",
    "accuracy_score(y_test,y_pred)"
   ]
  },
  {
   "cell_type": "code",
   "execution_count": 34,
   "id": "948a89ba-c6dd-4395-8104-7b615e373b13",
   "metadata": {},
   "outputs": [],
   "source": [
    "yp1 = classifier.predict(x_train)"
   ]
  },
  {
   "cell_type": "code",
   "execution_count": 35,
   "id": "d2567477-b163-4c14-b3f9-b3448a1a413c",
   "metadata": {},
   "outputs": [
    {
     "data": {
      "text/plain": [
       "0.8991123890486311"
      ]
     },
     "execution_count": 35,
     "metadata": {},
     "output_type": "execute_result"
    }
   ],
   "source": [
    "accuracy_score(yp1,y_train)"
   ]
  },
  {
   "cell_type": "code",
   "execution_count": 36,
   "id": "d989c4f8-0933-46ee-9c09-1fd2439b27c2",
   "metadata": {},
   "outputs": [],
   "source": [
    "ywhole = classifier.predict(x)"
   ]
  },
  {
   "cell_type": "code",
   "execution_count": 37,
   "id": "2b6e0f07-a070-4eac-8878-6a7d70346d37",
   "metadata": {},
   "outputs": [
    {
     "data": {
      "text/plain": [
       "0.8263826382638264"
      ]
     },
     "execution_count": 37,
     "metadata": {},
     "output_type": "execute_result"
    }
   ],
   "source": [
    "accuracy_score(ywhole,y)"
   ]
  },
  {
   "cell_type": "code",
   "execution_count": null,
   "id": "f00d80e6-26a7-4096-834f-107221ecf9d2",
   "metadata": {},
   "outputs": [],
   "source": []
  }
 ],
 "metadata": {
  "kernelspec": {
   "display_name": "Python 3 (ipykernel)",
   "language": "python",
   "name": "python3"
  },
  "language_info": {
   "codemirror_mode": {
    "name": "ipython",
    "version": 3
   },
   "file_extension": ".py",
   "mimetype": "text/x-python",
   "name": "python",
   "nbconvert_exporter": "python",
   "pygments_lexer": "ipython3",
   "version": "3.11.1"
  }
 },
 "nbformat": 4,
 "nbformat_minor": 5
}
